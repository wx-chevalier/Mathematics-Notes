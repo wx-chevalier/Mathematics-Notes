{
 "cells": [
  {
   "cell_type": "markdown",
   "metadata": {},
   "source": [
    "# 第六讲：列空间和零空间\n",
    "\n",
    "对向量子空间$S$和$T$，有$S \\cap T$也是向量子空间。\n",
    "\n",
    "对$m \\times n$矩阵$A$，$n \\times 1$矩阵$x$，$m \\times 1$矩阵$b$，运算$Ax=b$：\n",
    "\n",
    "$$\n",
    "\\begin{bmatrix}\n",
    "a_{11} & a_{12} & \\cdots & a_{1(n-1)} & a_{1n} \\\\\n",
    "a_{21} & a_{22} & \\cdots & a_{2(n-1)} & a_{2n} \\\\\n",
    "\\vdots & \\vdots & \\ddots & \\vdots & \\vdots \\\\\n",
    "a_{m1} & a_{m2} & \\cdots & a_{m(n-1)} & a_{mn} \\\\\n",
    "\\end{bmatrix}\n",
    "\\cdot\n",
    "\\begin{bmatrix}\n",
    "x_{1} \\\\\n",
    "x_{2} \\\\\n",
    "\\vdots \\\\\n",
    "x_{n-1} \\\\\n",
    "x_{n} \\\\\n",
    "\\end{bmatrix}\n",
    "=\n",
    "\\begin{bmatrix}\n",
    "b_{1} \\\\\n",
    "b_{2} \\\\\n",
    "\\vdots \\\\\n",
    "b_{m} \\\\\n",
    "\\end{bmatrix}\n",
    "$$\n",
    "\n",
    "由$A$的列向量生成的子空间为$A$的列空间；\n",
    "\n",
    "$Ax=b$有非零解当且仅当$b$属于$A$的列空间\n",
    "\n",
    "A的零空间是$Ax=0$中$x$的解组成的集合。"
   ]
  }
 ],
 "metadata": {
  "kernelspec": {
   "display_name": "Python 3",
   "language": "python",
   "name": "python3"
  },
  "language_info": {
   "codemirror_mode": {
    "name": "ipython",
    "version": 3
   },
   "file_extension": ".py",
   "mimetype": "text/x-python",
   "name": "python",
   "nbconvert_exporter": "python",
   "pygments_lexer": "ipython3",
   "version": "3.5.1"
  }
 },
 "nbformat": 4,
 "nbformat_minor": 0
}
