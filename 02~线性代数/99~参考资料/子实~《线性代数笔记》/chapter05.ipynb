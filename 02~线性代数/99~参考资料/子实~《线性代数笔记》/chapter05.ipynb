{
 "cells": [
  {
   "cell_type": "markdown",
   "metadata": {},
   "source": [
    "# 第五讲：转换、置换、向量空间R\n",
    "\n",
    "## 置换矩阵（Permutation Matrix）\n",
    "\n",
    "$P$为置换矩阵，对任意可逆矩阵$A$有：\n",
    "\n",
    "$PA=LU$\n",
    "\n",
    "$n$阶方阵的置换矩阵$P$有$\\binom{n}{1}=n!$个\n",
    "\n",
    "对置换矩阵$P$，有$P^TP = I$\n",
    "\n",
    "即$P^T = P^{-1}\n",
    "## 转置矩阵（Transpose Matrix）\n",
    "\n",
    "$(A^T)_{ij} = (A)_{ji}$\n",
    "\n",
    "## 对称矩阵（Symmetric Matrix）\n",
    "\n",
    "$A^T$ = $A$\n",
    "\n",
    "对任意矩阵$R$有$R^TR$为对称矩阵：\n",
    "\n",
    "$$\n",
    "(R^TR)^T = (R)^T(R^T)^T = R^TR\\\\\n",
    "\\textrm{即}(R^TR)^T = R^TR\n",
    "$$\n",
    "\n",
    "## 向量空间（Vector Space）\n",
    "\n",
    "所有向量空间都必须包含原点（Origin）；\n",
    "\n",
    "向量空间中任意向量的数乘、求和运算得到的向量也在该空间中。\n",
    "即向量空间要满足加法封闭和数乘封闭。"
   ]
  }
 ],
 "metadata": {
  "kernelspec": {
   "display_name": "Python [default]",
   "language": "python",
   "name": "python3"
  },
  "language_info": {
   "codemirror_mode": {
    "name": "ipython",
    "version": 3
   },
   "file_extension": ".py",
   "mimetype": "text/x-python",
   "name": "python",
   "nbconvert_exporter": "python",
   "pygments_lexer": "ipython3",
   "version": "3.5.2"
  }
 },
 "nbformat": 4,
 "nbformat_minor": 0
}
