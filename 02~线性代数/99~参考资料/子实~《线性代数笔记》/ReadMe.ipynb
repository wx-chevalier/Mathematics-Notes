{
 "cells": [
  {
   "cell_type": "markdown",
   "metadata": {},
   "source": [
    "# 线性代数笔记\n",
    "\n",
    "## 简介\n",
    "\n",
    "**作者：子实**\n",
    "\n",
    "线性代数笔记，使用 `jupyter notebook (ipython notebook)` 编写展示。\n",
    "\n",
    "`Github` 加载 `.ipynb` 的速度较慢，建议在 [Nbviewer](http://nbviewer.jupyter.org/github/zlotus/notes-linear-algebra/blob/master/ReadMe.ipynb) 中查看该项目。\n",
    "\n",
    "----\n",
    "\n",
    "## 目录\n",
    "\n",
    "来自MIT课程线性代数的笔记，可以在[麻省理工公开课：线性代数](http://open.163.com/special/opencourse/daishu.html)观看。\n",
    "\n",
    "- 第01集 [方程组的几何解释](chapter01.ipynb)\n",
    "- 第02集 [矩阵消元](chapter02.ipynb)\n",
    "- 第03集 [乘法和逆矩阵](chapter03.ipynb)\n",
    "- 第04集 [A的LU分解](chapter04.ipynb)\n",
    "- 第05集 [转置-置换-向量空间R](chapter05.ipynb)\n",
    "- 第06集 [列空间和零空间](chapter06.ipynb)\n",
    "- 第07集 [求解Ax=0：主变量、特解](chapter07.ipynb)\n",
    "- 第08集 [求解Ax=b：可解性和解的结构](chapter08.ipynb)\n",
    "- 第09集 [线性相关性、基、维数](chapter09.ipynb)\n",
    "- 第10集 [四个基本子空间](chapter10.ipynb)\n",
    "- 第11集 [矩阵空间、秩1矩阵和小世界图](chapter11.ipynb)\n",
    "- 第12集 [图和网络](chapter12.ipynb)\n",
    "- 第13集 [复习一](chapter13.ipynb)\n",
    "- 第14集 [正交向量与子空间](chapter14.ipynb)\n",
    "- 第15集 [子空间投影](chapter15.ipynb)\n",
    "- 第16集 [投影矩阵和最小二乘](chapter16.ipynb)\n",
    "- 第17集 [正交矩阵和Gram-Schmidt正交化](chapter17.ipynb)\n",
    "- 第18集 [行列式及其性质](chapter18.ipynb)\n",
    "- 第19集 [行列式公式和代数余子式](chapter19.ipynb)\n",
    "- 第20集 [克拉默法则、逆矩阵、体积](chapter20.ipynb)\n",
    "- 第21集 [特征值和特征向量](chapter21.ipynb)\n",
    "- 第22集 [对角化和A的幂](chapter22.ipynb)\n",
    "- 第23集 [微分方程和exp(At)](chapter23.ipynb)\n",
    "- 第24集 [马尔可夫矩阵、傅立叶级数](chapter24.ipynb)\n",
    "- 第25集 [复习二](chapter25.ipynb)\n",
    "- 第26集 [对称矩阵及正定性](chapter26.ipynb)\n",
    "- 第27集 [复数矩阵和快速傅里叶变换](chapter27.ipynb)\n",
    "- 第28集 [正定矩阵和最小值](chapter28.ipynb)\n",
    "- 第29集 [相似矩阵和若尔当形](chapter29.ipynb)\n",
    "- 第30集 [奇异值分解](chapter30.ipynb)\n",
    "- 第31集 [线性变换及对应矩阵](chapter31.ipynb)\n",
    "- 第32集 [基变换和图像压缩](chapter32.ipynb)\n",
    "- 第33集 [单元检测3复习](chapter33.ipynb)\n",
    "- 第34集 [左右逆和伪逆](chapter34.ipynb)\n",
    "- 第35集 [期末复习](chapter35.ipynb)\n",
    "\n",
    "笔记格式借鉴[Jin Li](https://github.com/lijin-THU/)的[机器学习笔记](https://github.com/lijin-THU/notes-machine-learning)。"
   ]
  }
 ],
 "metadata": {
  "kernelspec": {
   "display_name": "Python 3",
   "language": "python",
   "name": "python3"
  },
  "language_info": {
   "codemirror_mode": {
    "name": "ipython",
    "version": 3
   },
   "file_extension": ".py",
   "mimetype": "text/x-python",
   "name": "python",
   "nbconvert_exporter": "python",
   "pygments_lexer": "ipython3",
   "version": "3.5.1"
  }
 },
 "nbformat": 4,
 "nbformat_minor": 0
}
