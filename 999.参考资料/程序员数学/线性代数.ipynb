{
 "cells": [
  {
   "cell_type": "markdown",
   "id": "516669e1",
   "metadata": {},
   "source": [
    "### 逆矩阵求方程"
   ]
  },
  {
   "cell_type": "code",
   "execution_count": 2,
   "id": "e0af996d",
   "metadata": {},
   "outputs": [
    {
     "data": {
      "text/plain": [
       "array([[ 3,  2,  4],\n",
       "       [ 2, -1,  3],\n",
       "       [ 1,  1, -1]])"
      ]
     },
     "metadata": {},
     "output_type": "display_data"
    },
    {
     "data": {
      "text/plain": [
       "array([19,  9,  0])"
      ]
     },
     "metadata": {},
     "output_type": "display_data"
    }
   ],
   "source": [
    "# 三元一次方程 \n",
    "# 3x + 2y + 4z = 19 \n",
    "# 2x -y + 3z = 9 \n",
    "# x + y - z = 0\n",
    "\n",
    "# 方程解就是：1,2,3\n",
    "import numpy as np\n",
    "X = np.array([[3,2,4],\n",
    "              [2,-1,3],\n",
    "              [1,1,-1]])\n",
    "y = np.array([19,9,0])\n",
    "display(X,y)"
   ]
  },
  {
   "cell_type": "code",
   "execution_count": 4,
   "id": "3c3aa29d",
   "metadata": {},
   "outputs": [
    {
     "data": {
      "text/plain": [
       "array([1., 2., 3.])"
      ]
     },
     "execution_count": 4,
     "metadata": {},
     "output_type": "execute_result"
    }
   ],
   "source": [
    "# 逆矩阵\n",
    "np.linalg.inv(X).dot(y)"
   ]
  },
  {
   "cell_type": "markdown",
   "id": "e6ee5038",
   "metadata": {},
   "source": [
    "### 行列式"
   ]
  },
  {
   "cell_type": "code",
   "execution_count": 8,
   "id": "2a6ef88e",
   "metadata": {
    "scrolled": true
   },
   "outputs": [
    {
     "data": {
      "text/plain": [
       "array([[1, 3],\n",
       "       [3, 9]])"
      ]
     },
     "metadata": {},
     "output_type": "display_data"
    },
    {
     "name": "stdout",
     "output_type": "stream",
     "text": [
      "numpy函数计算行列式： 0.0\n"
     ]
    }
   ],
   "source": [
    "import numpy as np\n",
    "A = np.array([[1,3],[3,9]])\n",
    "display(A) # 1 * 7 - 3 * 3 = -2\n",
    "\n",
    "print('numpy函数计算行列式：',np.round(np.linalg.det(A)))"
   ]
  },
  {
   "cell_type": "code",
   "execution_count": 12,
   "id": "8724f177",
   "metadata": {
    "collapsed": true
   },
   "outputs": [
    {
     "ename": "LinAlgError",
     "evalue": "Singular matrix",
     "output_type": "error",
     "traceback": [
      "\u001b[1;31m---------------------------------------------------------------------------\u001b[0m",
      "\u001b[1;31mLinAlgError\u001b[0m                               Traceback (most recent call last)",
      "\u001b[1;32m~\\AppData\\Local\\Temp/ipykernel_13284/3331295656.py\u001b[0m in \u001b[0;36m<module>\u001b[1;34m\u001b[0m\n\u001b[1;32m----> 1\u001b[1;33m \u001b[0mnp\u001b[0m\u001b[1;33m.\u001b[0m\u001b[0mlinalg\u001b[0m\u001b[1;33m.\u001b[0m\u001b[0minv\u001b[0m\u001b[1;33m(\u001b[0m\u001b[0mA\u001b[0m\u001b[1;33m)\u001b[0m\u001b[1;33m\u001b[0m\u001b[1;33m\u001b[0m\u001b[0m\n\u001b[0m",
      "\u001b[1;32m<__array_function__ internals>\u001b[0m in \u001b[0;36minv\u001b[1;34m(*args, **kwargs)\u001b[0m\n",
      "\u001b[1;32mc:\\python38\\lib\\site-packages\\numpy\\linalg\\linalg.py\u001b[0m in \u001b[0;36minv\u001b[1;34m(a)\u001b[0m\n\u001b[0;32m    543\u001b[0m     \u001b[0msignature\u001b[0m \u001b[1;33m=\u001b[0m \u001b[1;34m'D->D'\u001b[0m \u001b[1;32mif\u001b[0m \u001b[0misComplexType\u001b[0m\u001b[1;33m(\u001b[0m\u001b[0mt\u001b[0m\u001b[1;33m)\u001b[0m \u001b[1;32melse\u001b[0m \u001b[1;34m'd->d'\u001b[0m\u001b[1;33m\u001b[0m\u001b[1;33m\u001b[0m\u001b[0m\n\u001b[0;32m    544\u001b[0m     \u001b[0mextobj\u001b[0m \u001b[1;33m=\u001b[0m \u001b[0mget_linalg_error_extobj\u001b[0m\u001b[1;33m(\u001b[0m\u001b[0m_raise_linalgerror_singular\u001b[0m\u001b[1;33m)\u001b[0m\u001b[1;33m\u001b[0m\u001b[1;33m\u001b[0m\u001b[0m\n\u001b[1;32m--> 545\u001b[1;33m     \u001b[0mainv\u001b[0m \u001b[1;33m=\u001b[0m \u001b[0m_umath_linalg\u001b[0m\u001b[1;33m.\u001b[0m\u001b[0minv\u001b[0m\u001b[1;33m(\u001b[0m\u001b[0ma\u001b[0m\u001b[1;33m,\u001b[0m \u001b[0msignature\u001b[0m\u001b[1;33m=\u001b[0m\u001b[0msignature\u001b[0m\u001b[1;33m,\u001b[0m \u001b[0mextobj\u001b[0m\u001b[1;33m=\u001b[0m\u001b[0mextobj\u001b[0m\u001b[1;33m)\u001b[0m\u001b[1;33m\u001b[0m\u001b[1;33m\u001b[0m\u001b[0m\n\u001b[0m\u001b[0;32m    546\u001b[0m     \u001b[1;32mreturn\u001b[0m \u001b[0mwrap\u001b[0m\u001b[1;33m(\u001b[0m\u001b[0mainv\u001b[0m\u001b[1;33m.\u001b[0m\u001b[0mastype\u001b[0m\u001b[1;33m(\u001b[0m\u001b[0mresult_t\u001b[0m\u001b[1;33m,\u001b[0m \u001b[0mcopy\u001b[0m\u001b[1;33m=\u001b[0m\u001b[1;32mFalse\u001b[0m\u001b[1;33m)\u001b[0m\u001b[1;33m)\u001b[0m\u001b[1;33m\u001b[0m\u001b[1;33m\u001b[0m\u001b[0m\n\u001b[0;32m    547\u001b[0m \u001b[1;33m\u001b[0m\u001b[0m\n",
      "\u001b[1;32mc:\\python38\\lib\\site-packages\\numpy\\linalg\\linalg.py\u001b[0m in \u001b[0;36m_raise_linalgerror_singular\u001b[1;34m(err, flag)\u001b[0m\n\u001b[0;32m     86\u001b[0m \u001b[1;33m\u001b[0m\u001b[0m\n\u001b[0;32m     87\u001b[0m \u001b[1;32mdef\u001b[0m \u001b[0m_raise_linalgerror_singular\u001b[0m\u001b[1;33m(\u001b[0m\u001b[0merr\u001b[0m\u001b[1;33m,\u001b[0m \u001b[0mflag\u001b[0m\u001b[1;33m)\u001b[0m\u001b[1;33m:\u001b[0m\u001b[1;33m\u001b[0m\u001b[1;33m\u001b[0m\u001b[0m\n\u001b[1;32m---> 88\u001b[1;33m     \u001b[1;32mraise\u001b[0m \u001b[0mLinAlgError\u001b[0m\u001b[1;33m(\u001b[0m\u001b[1;34m\"Singular matrix\"\u001b[0m\u001b[1;33m)\u001b[0m\u001b[1;33m\u001b[0m\u001b[1;33m\u001b[0m\u001b[0m\n\u001b[0m\u001b[0;32m     89\u001b[0m \u001b[1;33m\u001b[0m\u001b[0m\n\u001b[0;32m     90\u001b[0m \u001b[1;32mdef\u001b[0m \u001b[0m_raise_linalgerror_nonposdef\u001b[0m\u001b[1;33m(\u001b[0m\u001b[0merr\u001b[0m\u001b[1;33m,\u001b[0m \u001b[0mflag\u001b[0m\u001b[1;33m)\u001b[0m\u001b[1;33m:\u001b[0m\u001b[1;33m\u001b[0m\u001b[1;33m\u001b[0m\u001b[0m\n",
      "\u001b[1;31mLinAlgError\u001b[0m: Singular matrix"
     ]
    }
   ],
   "source": [
    "np.linalg.inv(A)"
   ]
  },
  {
   "cell_type": "code",
   "execution_count": 9,
   "id": "b6c22a53",
   "metadata": {},
   "outputs": [
    {
     "data": {
      "text/plain": [
       "array([[7, 1, 4, 3, 5],\n",
       "       [5, 9, 7, 4, 6],\n",
       "       [2, 8, 5, 9, 4],\n",
       "       [4, 5, 5, 0, 0],\n",
       "       [1, 2, 8, 8, 2]])"
      ]
     },
     "execution_count": 9,
     "metadata": {},
     "output_type": "execute_result"
    }
   ],
   "source": [
    "B = np.random.randint(0,10,size = (5,5))\n",
    "B"
   ]
  },
  {
   "cell_type": "code",
   "execution_count": 10,
   "id": "9945aa22",
   "metadata": {},
   "outputs": [
    {
     "data": {
      "text/plain": [
       "-9803.999999999989"
      ]
     },
     "execution_count": 10,
     "metadata": {},
     "output_type": "execute_result"
    }
   ],
   "source": [
    "np.linalg.det(B)"
   ]
  },
  {
   "cell_type": "code",
   "execution_count": 11,
   "id": "560147a5",
   "metadata": {},
   "outputs": [
    {
     "data": {
      "text/plain": [
       "array([[ 0.16319869, -0.1744186 ,  0.10199918,  0.15361077, -0.08873929],\n",
       "       [-0.06813545,  0.02906977,  0.08241534,  0.0621175 , -0.08170135],\n",
       "       [-0.0624235 ,  0.11046512, -0.16401469,  0.01499388,  0.15269278],\n",
       "       [ 0.05915953, -0.15697674,  0.1619747 ,  0.0119339 , -0.00091799],\n",
       "       [-0.000408  ,  0.24418605, -0.125255  , -0.24663403,  0.01897185]])"
      ]
     },
     "execution_count": 11,
     "metadata": {},
     "output_type": "execute_result"
    }
   ],
   "source": [
    "np.linalg.inv(B)"
   ]
  },
  {
   "cell_type": "markdown",
   "id": "25f3deba",
   "metadata": {},
   "source": [
    "### 伴随矩阵求解逆矩阵"
   ]
  },
  {
   "cell_type": "code",
   "execution_count": 16,
   "id": "73c55b74",
   "metadata": {},
   "outputs": [
    {
     "data": {
      "text/plain": [
       "array([[1, 2, 3],\n",
       "       [2, 2, 1],\n",
       "       [3, 4, 3]])"
      ]
     },
     "metadata": {},
     "output_type": "display_data"
    },
    {
     "data": {
      "text/plain": [
       "'A矩阵的逆矩阵是：'"
      ]
     },
     "metadata": {},
     "output_type": "display_data"
    },
    {
     "data": {
      "text/plain": [
       "array([[ 1. ,  3. , -2. ],\n",
       "       [-1.5, -3. ,  2.5],\n",
       "       [ 1. ,  1. , -1. ]])"
      ]
     },
     "metadata": {},
     "output_type": "display_data"
    }
   ],
   "source": [
    "import numpy as np\n",
    "A = np.array([[1,2,3],\n",
    "              [2,2,1],\n",
    "              [3,4,3]])\n",
    "display(A)\n",
    "display('A矩阵的逆矩阵是：',np.linalg.inv(A))"
   ]
  },
  {
   "cell_type": "code",
   "execution_count": 17,
   "id": "647e89e7",
   "metadata": {},
   "outputs": [
    {
     "name": "stdout",
     "output_type": "stream",
     "text": [
      "伴随矩阵和行列式求解的逆矩阵是：\n",
      " [[ 1.   3.  -2. ]\n",
      " [-1.5 -3.   2.5]\n",
      " [ 1.   1.  -1. ]]\n"
     ]
    }
   ],
   "source": [
    "A_bs = [] # 伴随矩阵\n",
    "n = 3 # 矩阵A3行3列\n",
    "\n",
    "# 两层for循环可以遍历每一个元素\n",
    "for i in range(n):\n",
    "    for j in range(n):\n",
    "        row = [0,1,2]\n",
    "        col = [0,1,2]\n",
    "        row.remove(i) # 元素a_ij删除行i\n",
    "        col.remove(j) # 元素a_ij删除列j\n",
    "        # 代数余子式\n",
    "        M_ij = A[np.ix_(row,col)] # 剔除行和列剩下的数据\n",
    "        M_ij = np.linalg.det(M_ij) # 余子式\n",
    "        A_ij = ((-1)**(i +j)) * M_ij # 代数余子式\n",
    "        A_bs.append(A_ij)\n",
    "        \n",
    "# 求解了伴随矩阵        \n",
    "A_bs = np.array(A_bs).reshape(3,3).T # 1、reshape；2、转置\n",
    "\n",
    "# 求解逆矩阵\n",
    "print('伴随矩阵和行列式求解的逆矩阵是：\\n',A_bs/np.linalg.det(A))"
   ]
  },
  {
   "cell_type": "code",
   "execution_count": 18,
   "id": "e7a51982",
   "metadata": {},
   "outputs": [
    {
     "data": {
      "text/plain": [
       "array([[ 1. ,  3. , -2. ],\n",
       "       [-1.5, -3. ,  2.5],\n",
       "       [ 1. ,  1. , -1. ]])"
      ]
     },
     "execution_count": 18,
     "metadata": {},
     "output_type": "execute_result"
    }
   ],
   "source": [
    "np.linalg.inv(A)"
   ]
  },
  {
   "cell_type": "code",
   "execution_count": null,
   "id": "08b932d5",
   "metadata": {},
   "outputs": [],
   "source": []
  }
 ],
 "metadata": {
  "kernelspec": {
   "display_name": "Python 3 (ipykernel)",
   "language": "python",
   "name": "python3"
  },
  "language_info": {
   "codemirror_mode": {
    "name": "ipython",
    "version": 3
   },
   "file_extension": ".py",
   "mimetype": "text/x-python",
   "name": "python",
   "nbconvert_exporter": "python",
   "pygments_lexer": "ipython3",
   "version": "3.8.10"
  },
  "toc": {
   "base_numbering": 1,
   "nav_menu": {},
   "number_sections": true,
   "sideBar": true,
   "skip_h1_title": false,
   "title_cell": "Table of Contents",
   "title_sidebar": "Contents",
   "toc_cell": false,
   "toc_position": {},
   "toc_section_display": true,
   "toc_window_display": true
  }
 },
 "nbformat": 4,
 "nbformat_minor": 5
}
