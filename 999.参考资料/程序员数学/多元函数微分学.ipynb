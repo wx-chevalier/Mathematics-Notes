{
 "cells": [
  {
   "cell_type": "markdown",
   "id": "e75a4c03",
   "metadata": {},
   "source": [
    "### 负定矩阵"
   ]
  },
  {
   "cell_type": "code",
   "execution_count": 5,
   "id": "46a35822",
   "metadata": {},
   "outputs": [
    {
     "name": "stdout",
     "output_type": "stream",
     "text": [
      "给定向量任意向量v： [-2 -3 -7]\n",
      "求解矩阵A正定判定条件结果是： -539\n"
     ]
    }
   ],
   "source": [
    "import numpy as np\n",
    "A = np.array([[-2,-3,-1],\n",
    "              [-3,-6,-4],\n",
    "              [-1,-4,-5]])\n",
    "v = np.array([-2,-3,-7])\n",
    "print('给定向量任意向量v：',v)\n",
    "print('求解矩阵A正定判定条件结果是：',v.T.dot(A).dot(v))"
   ]
  },
  {
   "cell_type": "markdown",
   "id": "7d33e25f",
   "metadata": {},
   "source": [
    "### 正定矩阵"
   ]
  },
  {
   "cell_type": "code",
   "execution_count": 15,
   "id": "a5e4aed7",
   "metadata": {},
   "outputs": [
    {
     "name": "stdout",
     "output_type": "stream",
     "text": [
      "给定向量任意向量v： [-5  8 -3]\n",
      "求解矩阵A正定判定条件结果是： 276\n"
     ]
    }
   ],
   "source": [
    "import numpy as np\n",
    "A = np.array([[5,1,-4],\n",
    "              [1,3,-2],\n",
    "              [-4,-2,7]])\n",
    "v = np.random.randint(-50,50,size = 3)\n",
    "print('给定向量任意向量v：',v)\n",
    "print('求解矩阵A正定判定条件结果是：',v.dot(A).dot(v))"
   ]
  },
  {
   "cell_type": "markdown",
   "id": "7e38adbc",
   "metadata": {},
   "source": [
    "### 根据特征值进行判定"
   ]
  },
  {
   "cell_type": "markdown",
   "id": "35dd02b2",
   "metadata": {},
   "source": [
    "#### 特征值全部是负数负定矩阵"
   ]
  },
  {
   "cell_type": "code",
   "execution_count": 16,
   "id": "c747a0bc",
   "metadata": {},
   "outputs": [
    {
     "name": "stdout",
     "output_type": "stream",
     "text": [
      "矩阵A的特征值特征向量是：\n"
     ]
    },
    {
     "data": {
      "text/plain": [
       "array([-10.54287655,  -0.03922866,  -2.41789479])"
      ]
     },
     "metadata": {},
     "output_type": "display_data"
    },
    {
     "data": {
      "text/plain": [
       "array([[ 0.32798528,  0.73697623, -0.59100905],\n",
       "       [ 0.73697623, -0.59100905, -0.32798528],\n",
       "       [ 0.59100905,  0.32798528,  0.73697623]])"
      ]
     },
     "metadata": {},
     "output_type": "display_data"
    }
   ],
   "source": [
    "import numpy as np\n",
    "A = np.array([[-2,-3,-1],\n",
    "              [-3,-6,-4],\n",
    "              [-1,-4,-5]])\n",
    "w,v = np.linalg.eig(A)\n",
    "print('矩阵A的特征值特征向量是：')\n",
    "display(w,v)"
   ]
  },
  {
   "cell_type": "markdown",
   "id": "948a2653",
   "metadata": {},
   "source": [
    "#### 特征值全部是正数正定矩阵"
   ]
  },
  {
   "cell_type": "code",
   "execution_count": 17,
   "id": "806fb899",
   "metadata": {},
   "outputs": [
    {
     "data": {
      "text/plain": [
       "(array([10.74515039,  1.63251546,  2.62233415]),\n",
       " array([[-0.58123713, -0.60851363, -0.54025416],\n",
       "        [-0.27299496, -0.4796241 ,  0.83392714],\n",
       "        [ 0.76657495, -0.63219608, -0.11265418]]))"
      ]
     },
     "execution_count": 17,
     "metadata": {},
     "output_type": "execute_result"
    }
   ],
   "source": [
    "import numpy as np\n",
    "A = np.array([[5,1,-4],\n",
    "              [1,3,-2],\n",
    "              [-4,-2,7]])\n",
    "np.linalg.eig(A)"
   ]
  },
  {
   "cell_type": "code",
   "execution_count": null,
   "id": "a295d060",
   "metadata": {},
   "outputs": [],
   "source": []
  }
 ],
 "metadata": {
  "kernelspec": {
   "display_name": "Python 3 (ipykernel)",
   "language": "python",
   "name": "python3"
  },
  "language_info": {
   "codemirror_mode": {
    "name": "ipython",
    "version": 3
   },
   "file_extension": ".py",
   "mimetype": "text/x-python",
   "name": "python",
   "nbconvert_exporter": "python",
   "pygments_lexer": "ipython3",
   "version": "3.8.10"
  },
  "toc": {
   "base_numbering": 1,
   "nav_menu": {},
   "number_sections": true,
   "sideBar": true,
   "skip_h1_title": false,
   "title_cell": "Table of Contents",
   "title_sidebar": "Contents",
   "toc_cell": false,
   "toc_position": {},
   "toc_section_display": true,
   "toc_window_display": false
  }
 },
 "nbformat": 4,
 "nbformat_minor": 5
}
